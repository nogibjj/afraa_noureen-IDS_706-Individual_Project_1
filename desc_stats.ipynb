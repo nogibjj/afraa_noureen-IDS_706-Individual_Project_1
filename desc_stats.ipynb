{
 "cells": [
  {
   "cell_type": "code",
   "execution_count": 1,
   "metadata": {},
   "outputs": [],
   "source": [
    "import pandas as pd\n",
    "import matplotlib.pyplot as plt"
   ]
  },
  {
   "cell_type": "code",
   "execution_count": 2,
   "metadata": {},
   "outputs": [],
   "source": [
    "def display_contries_info():\n",
    "    \"\"\"\n",
    "    Display basic info about all countries worldwide - covering a wide range of indicators and attributes such as \n",
    "    demographic statistics, economic indicators, environmental factors, healthcare metrics and education statistics.\n",
    "    \"\"\"\n",
    "    countries_info_df = pd.read_csv(\"world-data-2023.csv\")\n",
    "    infant_mortality_max = countries_info_df[\"Infant mortality\"].max()\n",
    "    high_infant_mortality_df = countries_info_df.query(\"`Infant mortality` == `Infant mortality`.max()\")\n",
    "    print(\"Summary Statistics of countries across the globe:\\n\")\n",
    "    print(countries_info_df.describe())\n",
    "    countries_info_df.plot.scatter(\n",
    "        x=\"Birth Rate\",\n",
    "        y=\"Infant mortality\",\n",
    "        title=\"Birth Rate vs Infant Mortality\",\n",
    "        xlabel=\"Birth Rate\",\n",
    "        ylabel=\"Infant Mortality\",\n",
    "    )\n",
    "    plt.show()\n",
    "    print(\"\\nDetails of the country with the highest infant mortality rate is: \\n\")\n",
    "    return high_infant_mortality_df"
   ]
  },
  {
   "cell_type": "code",
   "execution_count": 3,
   "metadata": {},
   "outputs": [
    {
     "name": "stdout",
     "output_type": "stream",
     "text": [
      "Summary Statistics of countries across the globe:\n",
      "\n",
      "       Birth Rate  Calling Code  Fertility Rate  Infant mortality   \n",
      "count  189.000000    194.000000      188.000000        189.000000  \\\n",
      "mean    20.214974    360.546392        2.698138         21.332804   \n",
      "std      9.945774    323.236419        1.282267         19.548058   \n",
      "min      5.900000      1.000000        0.980000          1.400000   \n",
      "25%     11.300000     82.500000        1.705000          6.000000   \n",
      "50%     17.950000    255.500000        2.245000         14.000000   \n",
      "75%     28.750000    506.750000        3.597500         32.700000   \n",
      "max     46.080000   1876.000000        6.910000         84.500000   \n",
      "\n",
      "       Life expectancy  Maternal mortality ratio  Physicians per thousand   \n",
      "count       187.000000                181.000000               188.000000  \\\n",
      "mean         72.279679                160.392265                 1.839840   \n",
      "std           7.483661                233.502024                 1.684261   \n",
      "min          52.800000                  2.000000                 0.010000   \n",
      "25%          67.000000                 13.000000                 0.332500   \n",
      "50%          73.200000                 53.000000                 1.460000   \n",
      "75%          77.500000                186.000000                 2.935000   \n",
      "max          85.400000               1150.000000                 8.420000   \n",
      "\n",
      "         Latitude   Longitude  \n",
      "count  194.000000  194.000000  \n",
      "mean    19.092351   20.232434  \n",
      "std     23.961779   66.716110  \n",
      "min    -40.900557 -175.198242  \n",
      "25%      4.544175   -7.941496  \n",
      "50%     17.273849   20.972652  \n",
      "75%     40.124603   48.281523  \n",
      "max     64.963051  178.065032  \n"
     ]
    },
    {
     "data": {
      "image/png": "[encoded data removed]",
      "text/plain": [
       "<Figure size 640x480 with 1 Axes>"
      ]
     },
     "metadata": {},
     "output_type": "display_data"
    },
    {
     "name": "stdout",
     "output_type": "stream",
     "text": [
      "\n",
      "Details of the country with the highest infant mortality rate is: \n",
      "\n"
     ]
    },
    {
     "data": {
      "text/html": [
       "<div>\n",
       "<style scoped>\n",
       "    .dataframe tbody tr th:only-of-type {\n",
       "        vertical-align: middle;\n",
       "    }\n",
       "\n",
       "    .dataframe tbody tr th {\n",
       "        vertical-align: top;\n",
       "    }\n",
       "\n",
       "    .dataframe thead th {\n",
       "        text-align: right;\n",
       "    }\n",
       "</style>\n",
       "<table border=\"1\" class=\"dataframe\">\n",
       "  <thead>\n",
       "    <tr style=\"text-align: right;\">\n",
       "      <th></th>\n",
       "      <th>Country</th>\n",
       "      <th>Density\\n(P/Km2)</th>\n",
       "      <th>Abbreviation</th>\n",
       "      <th>Agricultural Land( %)</th>\n",
       "      <th>Land Area(Km2)</th>\n",
       "      <th>Armed Forces size</th>\n",
       "      <th>Birth Rate</th>\n",
       "      <th>Calling Code</th>\n",
       "      <th>Capital/Major City</th>\n",
       "      <th>Co2-Emissions</th>\n",
       "      <th>...</th>\n",
       "      <th>Out of pocket health expenditure</th>\n",
       "      <th>Physicians per thousand</th>\n",
       "      <th>Population</th>\n",
       "      <th>Population: Labor force participation (%)</th>\n",
       "      <th>Tax revenue (%)</th>\n",
       "      <th>Total tax rate</th>\n",
       "      <th>Unemployment rate</th>\n",
       "      <th>Urban_population</th>\n",
       "      <th>Latitude</th>\n",
       "      <th>Longitude</th>\n",
       "    </tr>\n",
       "  </thead>\n",
       "  <tbody>\n",
       "    <tr>\n",
       "      <th>33</th>\n",
       "      <td>Central African Republic</td>\n",
       "      <td>8</td>\n",
       "      <td>CF</td>\n",
       "      <td>8.20%</td>\n",
       "      <td>622,984</td>\n",
       "      <td>8,000</td>\n",
       "      <td>35.35</td>\n",
       "      <td>236.0</td>\n",
       "      <td>Bangui</td>\n",
       "      <td>297</td>\n",
       "      <td>...</td>\n",
       "      <td>39.60%</td>\n",
       "      <td>0.06</td>\n",
       "      <td>4,745,185</td>\n",
       "      <td>72.00%</td>\n",
       "      <td>8.60%</td>\n",
       "      <td>73.30%</td>\n",
       "      <td>3.68%</td>\n",
       "      <td>1,982,064</td>\n",
       "      <td>6.611111</td>\n",
       "      <td>20.939444</td>\n",
       "    </tr>\n",
       "  </tbody>\n",
       "</table>\n",
       "<p>1 rows × 35 columns</p>\n",
       "</div>"
      ],
      "text/plain": [
       "                     Country Density\\n(P/Km2) Abbreviation   \n",
       "33  Central African Republic                8           CF  \\\n",
       "\n",
       "   Agricultural Land( %) Land Area(Km2) Armed Forces size  Birth Rate   \n",
       "33                 8.20%        622,984             8,000       35.35  \\\n",
       "\n",
       "    Calling Code Capital/Major City Co2-Emissions  ...   \n",
       "33         236.0             Bangui           297  ...  \\\n",
       "\n",
       "   Out of pocket health expenditure Physicians per thousand Population   \n",
       "33                           39.60%                    0.06  4,745,185  \\\n",
       "\n",
       "    Population: Labor force participation (%) Tax revenue (%) Total tax rate   \n",
       "33                                     72.00%           8.60%         73.30%  \\\n",
       "\n",
       "   Unemployment rate Urban_population  Latitude  Longitude  \n",
       "33             3.68%        1,982,064  6.611111  20.939444  \n",
       "\n",
       "[1 rows x 35 columns]"
      ]
     },
     "execution_count": 3,
     "metadata": {},
     "output_type": "execute_result"
    }
   ],
   "source": [
    "display_contries_info()"
   ]
  }
 ],
 "metadata": {
  "kernelspec": {
   "display_name": "Python 3",
   "language": "python",
   "name": "python3"
  },
  "language_info": {
   "codemirror_mode": {
    "name": "ipython",
    "version": 3
   },
   "file_extension": ".py",
   "mimetype": "text/x-python",
   "name": "python",
   "nbconvert_exporter": "python",
   "pygments_lexer": "ipython3",
   "version": "3.10.12"
  },
  "orig_nbformat": 4
 },
 "nbformat": 4,
 "nbformat_minor": 2
}
